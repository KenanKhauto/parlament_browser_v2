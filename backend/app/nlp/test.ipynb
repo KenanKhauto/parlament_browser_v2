{
 "cells": [
  {
   "cell_type": "code",
   "execution_count": 1,
   "metadata": {},
   "outputs": [
    {
     "name": "stderr",
     "output_type": "stream",
     "text": [
      "/home/kenan/Documents/parlament_browser_v2/env/lib/python3.10/site-packages/tqdm/auto.py:21: TqdmWarning: IProgress not found. Please update jupyter and ipywidgets. See https://ipywidgets.readthedocs.io/en/stable/user_install.html\n",
      "  from .autonotebook import tqdm as notebook_tqdm\n"
     ]
    }
   ],
   "source": [
    "from transformers import AutoTokenizer, AutoModelForSequenceClassification\n",
    "from transformers import pipeline\n",
    "import torch\n",
    "import spacy\n",
    "import torch.nn.functional as F"
   ]
  },
  {
   "cell_type": "code",
   "execution_count": 9,
   "metadata": {},
   "outputs": [
    {
     "name": "stdout",
     "output_type": "stream",
     "text": [
      "tensor([1, 2, 2])\n",
      "tensor([[1.6782e-03, 9.9829e-01, 2.7599e-05],\n",
      "        [5.5865e-04, 1.2245e-03, 9.9822e-01],\n",
      "        [3.1925e-04, 9.1280e-04, 9.9877e-01]])\n",
      "SequenceClassifierOutput(loss=None, logits=tensor([[-1.1400,  5.2483, -5.2477],\n",
      "        [-2.2368, -1.4521,  5.2514],\n",
      "        [-2.4764, -1.4258,  5.5719]]), hidden_states=None, attentions=None)\n"
     ]
    }
   ],
   "source": [
    "model_name = \"oliverguhr/german-sentiment-bert\"\n",
    "tokenizer = AutoTokenizer.from_pretrained(model_name)\n",
    "model = AutoModelForSequenceClassification.from_pretrained(model_name)\n",
    "\n",
    "\n",
    "X_train = [\n",
    "    \"Mit keinem guten Ergebniss. Das ist gar nicht mal so gut. Total awesome! nicht so schlecht wie erwartet\",\n",
    "    \"Der Test verlief positiv.\",\"Sie fährt ein grünes Auto.\"]\n",
    "\n",
    "t = \"\"\"nicht so schlecht wie erwartet\n",
    "\"\"\"\n",
    "batch = tokenizer(X_train, padding=True, truncation=True, max_length=512, return_tensors=\"pt\")\n",
    "\n",
    "with torch.no_grad():\n",
    "    output = model(**batch)\n",
    "    label_ids = torch.argmax(output.logits, dim=1)\n",
    "    print(label_ids)\n",
    "    prediction_scores = F.softmax(output.logits, dim=1)\n",
    "    print(prediction_scores)\n",
    "    print(output)\n"
   ]
  },
  {
   "cell_type": "code",
   "execution_count": 31,
   "metadata": {},
   "outputs": [
    {
     "name": "stdout",
     "output_type": "stream",
     "text": [
      "Die DET nk 4\n",
      "Leute NOUN sb 26\n",
      "von ADP pg 4\n",
      "al PROPN pnc 17\n",
      "Zabadani PROPN nk 10\n",
      "sind AUX ROOT 26\n",
      "scheiße ADV pd 26\n",
      "\n",
      " SPACE dep 31\n"
     ]
    }
   ],
   "source": [
    "# Load the pre-trained German NER model\n",
    "#spacy.cli.download(\"de_core_news_lg\")\n",
    "nlp = spacy.load(\"de_core_news_lg\")\n",
    "\n",
    "# Process a text and extract named entities\n",
    "text = \"\"\"Die Leute von al Zabadani sind scheiße\n",
    "\"\"\"\n",
    "doc = nlp(text)\n",
    "# for entity in doc.ents:\n",
    "#     print(entity.text, entity.label_, entity.start_char, entity.end_char)\n",
    "\n",
    "for token in doc:\n",
    "    print(token.text, token.pos_, token.dep_, token.head.idx)\n",
    "# for sent in doc.sents:\n",
    "#     print(sent.text)\n",
    "#     print(sent.start_char)\n",
    "#     print(sent.end_char)\n",
    "#     print(\"\")"
   ]
  },
  {
   "cell_type": "code",
   "execution_count": 29,
   "metadata": {},
   "outputs": [
    {
     "name": "stdout",
     "output_type": "stream",
     "text": [
      "Leute\n",
      "sind\n",
      "Leute\n",
      "Zabadani\n",
      "von\n",
      "sind\n",
      "sind\n",
      "scheiße\n"
     ]
    }
   ],
   "source": [
    "for token in doc:\n",
    "    print(token.head.text)"
   ]
  }
 ],
 "metadata": {
  "kernelspec": {
   "display_name": "env",
   "language": "python",
   "name": "python3"
  },
  "language_info": {
   "codemirror_mode": {
    "name": "ipython",
    "version": 3
   },
   "file_extension": ".py",
   "mimetype": "text/x-python",
   "name": "python",
   "nbconvert_exporter": "python",
   "pygments_lexer": "ipython3",
   "version": "3.10.6"
  },
  "orig_nbformat": 4
 },
 "nbformat": 4,
 "nbformat_minor": 2
}
